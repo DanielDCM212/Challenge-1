{
 "cells": [
  {
   "cell_type": "code",
   "execution_count": 1,
   "outputs": [
    {
     "name": "stdout",
     "output_type": "stream",
     "text": [
      "Requirement already satisfied: psycopg2 in /home/lux/.virtualenvs/e-fiscal/lib64/python3.10/site-packages (2.9.1)\r\n",
      "\u001B[33mWARNING: You are using pip version 22.0.4; however, version 22.1.2 is available.\r\n",
      "You should consider upgrading via the '/home/lux/.virtualenvs/e-fiscal/bin/python -m pip install --upgrade pip' command.\u001B[0m\u001B[33m\r\n",
      "\u001B[0m"
     ]
    }
   ],
   "source": [
    "### Install Lib\n",
    "!pip install psycopg2"
   ],
   "metadata": {
    "collapsed": false,
    "pycharm": {
     "name": "#%%\n"
    }
   }
  },
  {
   "cell_type": "code",
   "execution_count": 2,
   "outputs": [],
   "source": [
    "import os\n",
    "import psycopg2\n",
    "from requests import request\n",
    "from collections import Counter\n",
    "from datetime import datetime"
   ],
   "metadata": {
    "collapsed": false,
    "pycharm": {
     "name": "#%%\n"
    }
   }
  },
  {
   "cell_type": "code",
   "execution_count": 3,
   "outputs": [],
   "source": [
    "def get_data():\n",
    "    res = request(\"GET\",\n",
    "                  \"https://api.stackexchange.com/2.2/search?order=desc&sort=activity&intitle=perl&site=stackoverflow\")\n",
    "    res_json = res.json()\n",
    "    return res_json"
   ],
   "metadata": {
    "collapsed": false,
    "pycharm": {
     "name": "#%%\n"
    }
   }
  },
  {
   "cell_type": "code",
   "execution_count": 4,
   "outputs": [],
   "source": [
    "a = get_data()"
   ],
   "metadata": {
    "collapsed": false,
    "pycharm": {
     "name": "#%%\n"
    }
   }
  },
  {
   "cell_type": "markdown",
   "source": [
    "### Obtener el número de respuestas contestadas y no contestadas"
   ],
   "metadata": {
    "collapsed": false,
    "pycharm": {
     "name": "#%% md\n"
    }
   }
  },
  {
   "cell_type": "code",
   "execution_count": 5,
   "outputs": [
    {
     "name": "stdout",
     "output_type": "stream",
     "text": [
      "Respuestas Contestadas: 19\n",
      "Respuestas No Contestadas: 11\n"
     ]
    }
   ],
   "source": [
    "answered = Counter((item[\"is_answered\"] for item in a['items']))\n",
    "print(f\"Respuestas Contestadas: {answered[True]}\")\n",
    "print(f\"Respuestas No Contestadas: {answered[False]}\")"
   ],
   "metadata": {
    "collapsed": false,
    "pycharm": {
     "name": "#%%\n"
    }
   }
  },
  {
   "cell_type": "markdown",
   "source": [
    "### Obtener la respuesta con menor número de vistas"
   ],
   "metadata": {
    "collapsed": false,
    "pycharm": {
     "name": "#%% md\n"
    }
   }
  },
  {
   "cell_type": "code",
   "execution_count": 9,
   "outputs": [
    {
     "data": {
      "text/plain": "{'tags': ['excel', 'perl'],\n 'owner': {'reputation': 27,\n  'user_id': 17757172,\n  'user_type': 'registered',\n  'profile_image': 'https://www.gravatar.com/avatar/3211187a104ce67f4a41dc0b23646b89?s=256&d=identicon&r=PG',\n  'display_name': 'Itsme',\n  'link': 'https://stackoverflow.com/users/17757172/itsme'},\n 'is_answered': False,\n 'view_count': 16,\n 'answer_count': 1,\n 'score': 0,\n 'last_activity_date': 1657132647,\n 'creation_date': 1657131264,\n 'question_id': 72888192,\n 'content_license': 'CC BY-SA 4.0',\n 'link': 'https://stackoverflow.com/questions/72888192/usage-of-set-row-in-excel-module-in-perl',\n 'title': 'Usage of set_row in Excel module in perl'}"
     },
     "execution_count": 9,
     "metadata": {},
     "output_type": "execute_result"
    }
   ],
   "source": [
    "Min = min(a['items'], key=lambda x: x[\"view_count\"])\n",
    "Min"
   ],
   "metadata": {
    "collapsed": false,
    "pycharm": {
     "name": "#%%\n"
    }
   }
  },
  {
   "cell_type": "markdown",
   "source": [
    "### Obtener la respuesta más vieja y más actual"
   ],
   "metadata": {
    "collapsed": false,
    "pycharm": {
     "name": "#%% md\n"
    }
   }
  },
  {
   "cell_type": "code",
   "execution_count": 11,
   "outputs": [
    {
     "name": "stdout",
     "output_type": "stream",
     "text": [
      "Respuesta mas vieja 2012-01-18T20:53:56\n",
      "Respuesta mas nueva 2022-07-06T16:08:20\n"
     ]
    }
   ],
   "source": [
    "oldest = min(a['items'], key=lambda x: x[\"creation_date\"])\n",
    "newest = max(a['items'], key=lambda x: x[\"creation_date\"])\n",
    "\n",
    "oldest_str = datetime.fromtimestamp(oldest[\"creation_date\"]).strftime(\"%Y-%m-%dT%H:%M:%S\")\n",
    "newest_str = datetime.fromtimestamp(newest[\"creation_date\"]).strftime(\"%Y-%m-%dT%H:%M:%S\")\n",
    "print(f\"Respuesta mas vieja {oldest_str}\")\n",
    "print(f\"Respuesta mas nueva {newest_str}\")"
   ],
   "metadata": {
    "collapsed": false,
    "pycharm": {
     "name": "#%%\n"
    }
   }
  },
  {
   "cell_type": "markdown",
   "source": [
    "### Obtener la respuesta del owner que tenga una mayor reputación"
   ],
   "metadata": {
    "collapsed": false,
    "pycharm": {
     "name": "#%% md\n"
    }
   }
  },
  {
   "cell_type": "code",
   "execution_count": 12,
   "outputs": [
    {
     "data": {
      "text/plain": "{'tags': ['multidimensional-array', 'slice', 'raku'],\n 'owner': {'reputation': 125298,\n  'user_id': 2766176,\n  'user_type': 'registered',\n  'accept_rate': 61,\n  'profile_image': 'https://www.gravatar.com/avatar/edd8638efe875601bfe394a8aea5b16d?s=256&d=identicon&r=PG',\n  'display_name': 'brian d foy',\n  'link': 'https://stackoverflow.com/users/2766176/brian-d-foy'},\n 'is_answered': True,\n 'view_count': 274,\n 'answer_count': 2,\n 'score': 9,\n 'last_activity_date': 1657116729,\n 'creation_date': 1526435514,\n 'last_edit_date': 1657116729,\n 'question_id': 50361375,\n 'content_license': 'CC BY-SA 4.0',\n 'link': 'https://stackoverflow.com/questions/50361375/how-can-i-slice-a-shaped-array-in-perl-6',\n 'title': 'How can I slice a shaped array in Perl 6?'}"
     },
     "execution_count": 12,
     "metadata": {},
     "output_type": "execute_result"
    }
   ],
   "source": [
    "max_reputation = max(a[\"items\"], key=lambda x: x[\"owner\"][\"reputation\"])\n",
    "max_reputation"
   ],
   "metadata": {
    "collapsed": false,
    "pycharm": {
     "name": "#%%\n"
    }
   }
  },
  {
   "cell_type": "code",
   "execution_count": null,
   "outputs": [],
   "source": [],
   "metadata": {
    "collapsed": false,
    "pycharm": {
     "name": "#%%\n"
    }
   }
  },
  {
   "cell_type": "code",
   "execution_count": 12,
   "outputs": [],
   "source": [],
   "metadata": {
    "collapsed": false,
    "pycharm": {
     "name": "#%%\n"
    }
   }
  },
  {
   "cell_type": "code",
   "execution_count": 92,
   "outputs": [],
   "source": [
    "host = os.getenv('POSTGRES_HOST', \"localhost\")\n",
    "\n",
    "dbname = os.getenv('POSTGRES_DBNAME', \"airports\")\n",
    "port = os.getenv(\"POSTGRES_PORT\", 5432)\n",
    "user = os.getenv('POSTGRES_USER', \"postgres\")\n",
    "password = os.getenv('POSTGRES_PASSWORD', \"password\")\n",
    "sslmode = os.getenv('POSTGRES_SSLMODE', \"disable\")\n",
    "conn = psycopg2.connect(host=host,\n",
    "                        port=port,\n",
    "                        user=user,\n",
    "                        password=password,\n",
    "                        dbname=dbname,\n",
    "                        sslmode=sslmode)\n",
    "conn.autocommit = True\n",
    "cursor = conn.cursor()"
   ],
   "metadata": {
    "collapsed": false,
    "pycharm": {
     "name": "#%%\n"
    }
   }
  },
  {
   "cell_type": "code",
   "execution_count": 93,
   "outputs": [],
   "source": [
    "cursor.execute(\"\"\"\n",
    "CREATE TABLE IF NOT EXISTS aerolineas (\n",
    "ID_AEROLINEA BIGSERIAL PRIMARY KEY,\n",
    "NOMBRE_AEROLINEA varchar(20)\n",
    ");\n",
    "\"\"\")\n",
    "\n",
    "cursor.execute(\"\"\"\n",
    "CREATE TABLE IF NOT EXISTS aeropuertos (\n",
    "ID_AEROPUERTO BIGSERIAL PRIMARY KEY,\n",
    "NOMBRE_AEROPUERTO varchar(20)\n",
    ");\n",
    "\"\"\")\n",
    "\n",
    "cursor.execute(\"\"\"\n",
    "CREATE TABLE IF NOT EXISTS movimientos (\n",
    "ID_MOVIMIENTO BIGSERIAL PRIMARY KEY,\n",
    "DESCRIPCION varchar(40)\n",
    ");\n",
    "\"\"\")\n",
    "\n",
    "cursor.execute(\"\"\"\n",
    "CREATE TABLE IF NOT EXISTS vuelos (\n",
    "ID_AEROLINEA BIGSERIAL,\n",
    "ID_AEROPUERTO BIGSERIAL,\n",
    "ID_MOVIMIENTO BIGSERIAL,\n",
    "DIA date\n",
    ");\n",
    "\"\"\")\n",
    "\n"
   ],
   "metadata": {
    "collapsed": false,
    "pycharm": {
     "name": "#%%\n"
    }
   }
  },
  {
   "cell_type": "code",
   "execution_count": 94,
   "outputs": [],
   "source": [
    "cursor.execute(\"\"\"\n",
    "INSERT INTO aerolineas (ID_AEROLINEA, NOMBRE_AEROLINEA)\n",
    "    VALUES (1, 'Volaris'), (2, 'Aeromar'), (3, 'Interjet'), (4, 'Aeromexico');\n",
    "\"\"\")\n",
    "\n",
    "cursor.execute(\"\"\"\n",
    "INSERT INTO aeropuertos (ID_AEROPUERTO, NOMBRE_AEROPUERTO)\n",
    "    VALUES (1, 'Benito Juarez'), (2, 'Guanajuato'), (3, 'La paz'), (4, 'Oaxaca');\n",
    "\"\"\")\n",
    "\n",
    "cursor.execute(\"\"\"\n",
    "    INSERT INTO movimientos (ID_MOVIMIENTO, DESCRIPCION)\n",
    "    VALUES (1, 'Salida'), (2, 'Llegada');\n",
    "\"\"\")\n",
    "\n",
    "cursor.execute(\"\"\"\n",
    "INSERT INTO vuelos (ID_AEROLINEA, ID_AEROPUERTO, ID_MOVIMIENTO, DIA) values (1, 1, 1, '2021-05-02'),\n",
    "(2, 1, 1, '2021-05-02'),\n",
    "(3, 2, 2, '2021-05-02'),\n",
    "(4, 3, 2, '2021-05-02'),\n",
    "(1, 3, 2, '2021-05-02'),\n",
    "(2, 1, 1, '2021-05-02'),\n",
    "(2, 3, 1, '2021-05-04'),\n",
    "(3, 4, 1, '2021-05-04'),\n",
    "(3, 4, 1, '2021-05-04')\n",
    "\"\"\")"
   ],
   "metadata": {
    "collapsed": false,
    "pycharm": {
     "name": "#%%\n"
    }
   }
  },
  {
   "cell_type": "code",
   "execution_count": 95,
   "outputs": [
    {
     "name": "stdout",
     "output_type": "stream",
     "text": [
      "¿Cuál es el nombre aeropuerto que ha tenido mayor movimiento durante el año?\n",
      "Benito Juarez con 3 movimientos\n",
      "La paz con 3 movimientos\n"
     ]
    }
   ],
   "source": [
    "cursor.execute(\"\"\"\n",
    "SELECT nombre_aeropuerto, count(nombre_aeropuerto) as numero_de_eventos\n",
    "FROM vuelos\n",
    "         JOIN aeropuertos a on vuelos.id_aeropuerto = a.id_aeropuerto\n",
    "group by nombre_aeropuerto\n",
    "having count(nombre_aeropuerto) = (\n",
    "    SELECT MAX(counts.numero_de_eventos)\n",
    "    FROM (\n",
    "             SELECT nombre_aeropuerto, count(nombre_aeropuerto) as numero_de_eventos\n",
    "             FROM vuelos\n",
    "                      JOIN aeropuertos a on vuelos.id_aeropuerto = a.id_aeropuerto\n",
    "             group by nombre_aeropuerto\n",
    "         ) as counts);\n",
    "\"\"\")\n",
    "\n",
    "print(f\"¿Cuál es el nombre aeropuerto que ha tenido mayor movimiento durante el año?\")\n",
    "for pair in cursor.fetchall():\n",
    "    print(f\"{pair[0]} con {pair[1]} movimientos\")"
   ],
   "metadata": {
    "collapsed": false,
    "pycharm": {
     "name": "#%%\n"
    }
   }
  },
  {
   "cell_type": "code",
   "execution_count": 96,
   "outputs": [
    {
     "name": "stdout",
     "output_type": "stream",
     "text": [
      "¿Cuál es el nombre aerolínea que ha realizado mayor número de vuelos durante el año?\n",
      "Aeromar con 3 vuelos\n",
      "Interjet con 3 vuelos\n"
     ]
    }
   ],
   "source": [
    "cursor.execute(\"\"\"\n",
    "SELECT nombre_aerolinea, count(nombre_aerolinea) as numero_de_eventos\n",
    "FROM vuelos\n",
    "         JOIN aerolineas a2 on vuelos.id_aerolinea = a2.id_aerolinea\n",
    "group by nombre_aerolinea\n",
    "having count(nombre_aerolinea) = (\n",
    "    SELECT MAX(counts.numero_de_eventos)\n",
    "    FROM (\n",
    "             SELECT nombre_aerolinea, count(nombre_aerolinea) as numero_de_eventos\n",
    "            FROM vuelos\n",
    "                     JOIN aerolineas a2 on vuelos.id_aerolinea = a2.id_aerolinea\n",
    "            group by nombre_aerolinea\n",
    "         ) as counts);\n",
    "\"\"\")\n",
    "\n",
    "print(f\"¿Cuál es el nombre aerolínea que ha realizado mayor número de vuelos durante el año?\")\n",
    "for pair in cursor.fetchall():\n",
    "    print(f\"{pair[0]} con {pair[1]} vuelos\")"
   ],
   "metadata": {
    "collapsed": false,
    "pycharm": {
     "name": "#%%\n"
    }
   }
  },
  {
   "cell_type": "code",
   "execution_count": 97,
   "outputs": [
    {
     "name": "stdout",
     "output_type": "stream",
     "text": [
      "¿En qué día se han tenido mayor número de vuelos?\n",
      "El dia 2021-05-02 con 6 vuelos\n"
     ]
    }
   ],
   "source": [
    "cursor.execute(\"\"\"\n",
    "SELECT dia, count(dia) as vuelos\n",
    "from vuelos\n",
    "group by dia\n",
    "having count(dia) = (\n",
    "    select max(events.vuelos)\n",
    "    from (\n",
    "             SELECT dia, count(dia) as vuelos\n",
    "             from vuelos\n",
    "             group by dia\n",
    "         ) as events\n",
    ");\n",
    "\"\"\")\n",
    "\n",
    "print(f\"¿En qué día se han tenido mayor número de vuelos?\")\n",
    "for pair in cursor.fetchall():\n",
    "    print(f\"El dia {pair[0]} con {pair[1]} vuelos\")"
   ],
   "metadata": {
    "collapsed": false,
    "pycharm": {
     "name": "#%%\n"
    }
   }
  },
  {
   "cell_type": "code",
   "execution_count": 98,
   "outputs": [
    {
     "name": "stdout",
     "output_type": "stream",
     "text": [
      "¿Cuáles son las aerolíneas que tienen mas de 2 vuelos por día?\n",
      "No hay alguna aerolinea que tenga mas de 2 vuelos por dia\n",
      "¿Cuáles son las aerolíneas que tienen 2 o mas vuelos por día?\n",
      "La aerolinea Volaris con 2 vuelos al dia\n"
     ]
    }
   ],
   "source": [
    "cursor.execute(\"\"\"\n",
    "SELECT nombre_aerolinea, min(vuelos)\n",
    "FROM aerolineas\n",
    "         JOIN (\n",
    "    SELECT id_aerolinea, dia, count(dia) as vuelos\n",
    "    from vuelos\n",
    "    group by id_aerolinea, dia) as v\n",
    "              on aerolineas.id_aerolinea = v.id_aerolinea group by nombre_aerolinea having min(vuelos) > 2;\n",
    "\"\"\")\n",
    "print(f\"¿Cuáles son las aerolíneas que tienen mas de 2 vuelos por día?\")\n",
    "req = cursor.fetchall()\n",
    "for pair in req:\n",
    "    print(f\"La aerolinea {pair[0]} con {pair[1]} vuelos\")\n",
    "if not req:\n",
    "    print(f\"No hay alguna aerolinea que tenga mas de 2 vuelos por dia\")\n",
    "\n",
    "cursor.execute(\"\"\"\n",
    "SELECT nombre_aerolinea, min(vuelos)\n",
    "FROM aerolineas\n",
    "         JOIN (\n",
    "    SELECT id_aerolinea, dia, count(dia) as vuelos\n",
    "    from vuelos\n",
    "    group by id_aerolinea, dia) as v\n",
    "              on aerolineas.id_aerolinea = v.id_aerolinea group by nombre_aerolinea having min(vuelos) >= 2;\n",
    "\"\"\")\n",
    "print(f\"¿Cuáles son las aerolíneas que tienen 2 o mas vuelos por día?\")\n",
    "req = cursor.fetchall()\n",
    "for pair in req:\n",
    "    print(f\"La aerolinea {pair[0]} con {pair[1]} vuelos al dia\")\n",
    "if not req:\n",
    "    print(f\"No hay alguna aerolinea que tenga mas de 2 vuelos por dia\")"
   ],
   "metadata": {
    "collapsed": false,
    "pycharm": {
     "name": "#%%\n"
    }
   }
  },
  {
   "cell_type": "code",
   "execution_count": 63,
   "outputs": [],
   "source": [],
   "metadata": {
    "collapsed": false,
    "pycharm": {
     "name": "#%%\n"
    }
   }
  },
  {
   "cell_type": "code",
   "execution_count": null,
   "outputs": [],
   "source": [],
   "metadata": {
    "collapsed": false,
    "pycharm": {
     "name": "#%%\n"
    }
   }
  }
 ],
 "metadata": {
  "kernelspec": {
   "name": "e-fiscal",
   "language": "python",
   "display_name": "e-fiscal"
  },
  "language_info": {
   "codemirror_mode": {
    "name": "ipython",
    "version": 2
   },
   "file_extension": ".py",
   "mimetype": "text/x-python",
   "name": "python",
   "nbconvert_exporter": "python",
   "pygments_lexer": "ipython2",
   "version": "2.7.6"
  }
 },
 "nbformat": 4,
 "nbformat_minor": 0
}